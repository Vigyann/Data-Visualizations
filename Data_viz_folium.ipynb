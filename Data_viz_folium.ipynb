{
 "cells": [
  {
   "cell_type": "code",
   "execution_count": null,
   "metadata": {},
   "outputs": [],
   "source": [
    "import folium \n",
    "\n",
    "map1=folium.Map(location=[45.5236, 122.6750],zoom_start=13)\n",
    "map1.save(\"basic_map.html\")\n"
   ]
  },
  {
   "cell_type": "code",
   "execution_count": null,
   "metadata": {},
   "outputs": [],
   "source": [
    "import folium \n",
    "\n",
    "map2=folium.Map(location=[45.5236, -122.6750],zoom_start=13)\n",
    "folium.Marker(location=[45.5236, -122.6750],popup='portland').add_to(map2)\n",
    "map2.save(\"simple_marker_map.html\")\n",
    "map2"
   ]
  },
  {
   "cell_type": "code",
   "execution_count": null,
   "metadata": {},
   "outputs": [],
   "source": [
    "map3=folium.Map(location=[45.5236, -122.6750],zoom_start=13)\n",
    "folium.CircleMarker(location=[45.5236, -122.6750],radius=50,color='blue',fill_color='blue').add_to(map3)\n",
    "map3.save(\"simple_marker_map.html\")\n",
    "map3"
   ]
  },
  {
   "cell_type": "code",
   "execution_count": null,
   "metadata": {},
   "outputs": [],
   "source": [
    "map4=folium.Map(location=[45.5236, -122.6750],zoom_start=13)\n",
    "location=[\n",
    "[45.5236, -122.6750],\n",
    "[45.5316, -122.6600],\n",
    "[45.5182, -122.6800]\n",
    "]\n",
    "\n",
    "for loc in location:\n",
    "    folium.Marker(location=loc,popup='Marker').add_to(map4)\n",
    "map4.save(\"multiple_marker_map.html\")\n",
    "map4"
   ]
  },
  {
   "cell_type": "code",
   "execution_count": null,
   "metadata": {},
   "outputs": [],
   "source": [
    "map10=folium.Map(location=[45.5236,-122.6750],zoom_start=13)\n",
    "\n",
    "folium.PolyLine(\n",
    " locations=[[45.5236, -122.6750],\n",
    "[45.5316, -122.6600],\n",
    "[45.5182, -122.6800]],\n",
    "color='blue',\n",
    "weight=5,\n",
    "opacity=0.7\n",
    "\n",
    ").add_to(map10)\n",
    "\n",
    "map10.save(\"simple_route_map.html\")\n",
    "map10"
   ]
  },
  {
   "cell_type": "code",
   "execution_count": null,
   "metadata": {},
   "outputs": [],
   "source": [
    "map9=folium.Map(location=[45.5236,-122.6750],zoom_start=13)\n",
    "\n",
    "folium.Circle(\n",
    " locations=[45.5236, -122.6750],\n",
    " radius=1000,\n",
    "color='orange',\n",
    "weight=5,\n",
    "opacity=0.7\n",
    "\n",
    ").add_to(map10)\n",
    "\n",
    "map9.save(\"simple_route1_map.html\")\n",
    "map9"
   ]
  },
  {
   "cell_type": "code",
   "execution_count": null,
   "metadata": {},
   "outputs": [],
   "source": [
    "map7=folium.Map(location=[45.5236,-122.6750],zoom_start=13)\n",
    "\n",
    "folium.Polygon(\n",
    " locations=[[45.5236, -122.6750],\n",
    "[45.5316, -122.6600],\n",
    "[45.5182, -122.6800]],\n",
    "color='Purple',\n",
    "fill=True,\n",
    "fill_color='purple',\n",
    "fill_opacity=0.5\n",
    "\n",
    "\n",
    ").add_to(map7)\n",
    "\n",
    "map7.save(\"simple_routes_map.html\")\n",
    "map7"
   ]
  },
  {
   "cell_type": "code",
   "execution_count": null,
   "metadata": {},
   "outputs": [],
   "source": [
    "map5=folium.Map(location=[45.5236,-122.6750],zoom_start=13)\n",
    "folium.Marker(\n",
    "    location=[45.5236,-122.6750],\n",
    "    popup='custom Icon',\n",
    "    icon=folium.Icon(icon='info-sign',color='green')\n",
    ").add_to(map5)\n",
    "\n",
    "map5.save(\"custom_icon_map.html\")\n",
    "map5"
   ]
  }
 ],
 "metadata": {
  "kernelspec": {
   "display_name": "base",
   "language": "python",
   "name": "python3"
  },
  "language_info": {
   "codemirror_mode": {
    "name": "ipython",
    "version": 3
   },
   "file_extension": ".py",
   "mimetype": "text/x-python",
   "name": "python",
   "nbconvert_exporter": "python",
   "pygments_lexer": "ipython3",
   "version": "3.11.5"
  }
 },
 "nbformat": 4,
 "nbformat_minor": 2
}
